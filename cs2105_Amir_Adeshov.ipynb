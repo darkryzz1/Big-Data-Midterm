{
 "cells": [
  {
   "cell_type": "markdown",
   "id": "a07dfc6e-c9c0-4c00-979d-3754f7fa9da8",
   "metadata": {},
   "source": [
    "#Big Data in Law Enforcement"
   ]
  },
  {
   "cell_type": "markdown",
   "id": "1d90dc71-5413-4fec-ac49-df6728bd63d9",
   "metadata": {
    "tags": []
   },
   "source": [
    "## Introduction\n",
    "\n",
    "Saving the date in almost all existing software, it is this large date that plays an important role in storing this data. To secure this data, we need cybersecurity that will prevent possible threats and data leaks."
   ]
  },
  {
   "cell_type": "markdown",
   "id": "6f23b2fd-6c41-4233-9312-281e4fc62d81",
   "metadata": {
    "tags": []
   },
   "source": [
    "*Some of the popular languages that Data Scientists use are:*\n",
    "\n",
    "1.Python\n",
    "2.SQL\n",
    "3.Java"
   ]
  },
  {
   "cell_type": "markdown",
   "id": "c024b2b1-9e6c-48d1-8da9-03ce2f3cf54d",
   "metadata": {},
   "source": [
    "*Some of the commonly used libraries used by Data Scientists include:*\n",
    "\n",
    "1.NumPy\n",
    "2.Pandas\n",
    "3.Scikit-Learn\n",
    "4.Matplotlib\n"
   ]
  },
  {
   "cell_type": "markdown",
   "id": "b4d5bd23-ab4e-499d-8c74-292eae677553",
   "metadata": {
    "tags": []
   },
   "source": [
    "| Data Science Tools     |\n",
    "|----------------------- |\n",
    "| 1. Jupyter Notebooks   |\n",
    "| 2. Scikit-Learn        |\n",
    "| 3. Apache Spark        |"
   ]
  },
  {
   "cell_type": "markdown",
   "id": "6b638560-38b5-4767-88cc-2dc00b055ad1",
   "metadata": {},
   "source": [
    "### Below are a few examples of evaluating arithmetic expressions in Python\n",
    "\n",
    "3+7 = 10\n",
    "5 * 4 = 20\n",
    "17 - 3 = 14\n",
    "8 / 2 = 4\n",
    "3 ** 3 = 27\n"
   ]
  },
  {
   "cell_type": "code",
   "execution_count": 6,
   "id": "42da43cd-e185-4352-85ca-4517360793cd",
   "metadata": {
    "tags": []
   },
   "outputs": [
    {
     "data": {
      "text/plain": [
       "33"
      ]
     },
     "execution_count": 6,
     "metadata": {},
     "output_type": "execute_result"
    }
   ],
   "source": [
    "# This is a simple arithmetic expression\n",
    "(4*6)+9"
   ]
  },
  {
   "cell_type": "code",
   "execution_count": 9,
   "id": "f79dbf98-f00a-4b3f-9bda-f783eabf6164",
   "metadata": {
    "tags": []
   },
   "outputs": [
    {
     "name": "stdout",
     "output_type": "stream",
     "text": [
      "5.0\n"
     ]
    }
   ],
   "source": [
    "# This will convert 300 minutes to hours by dividing by 60\n",
    "\n",
    "m = 300\n",
    "h = m / 60\n",
    "print(h)\n",
    "\n"
   ]
  },
  {
   "cell_type": "markdown",
   "id": "b59aa331-a704-4c80-a975-737e535f8d00",
   "metadata": {},
   "source": [
    "**Objectives**\n",
    "\n",
    "- Create a markdown cell for an introduction\n",
    "- Create a markdown cell to list data science language\n",
    "- Create a markdown cell to list data science libraries\n",
    "- Create a markdown cell with a table of Data Science tools.\n",
    "-  Create a markdown cell with arithmetic expression"
   ]
  },
  {
   "cell_type": "markdown",
   "id": "35b6bb5b-7396-4440-b6e5-ceb2635f2e31",
   "metadata": {
    "tags": []
   },
   "source": [
    "## Author\n",
    "\n",
    "Adeshov Amir"
   ]
  },
  {
   "cell_type": "code",
   "execution_count": null,
   "id": "a3d49be4-bccb-4bb6-b758-1f3b1d8e80bd",
   "metadata": {},
   "outputs": [],
   "source": []
  }
 ],
 "metadata": {
  "kernelspec": {
   "display_name": "Python 3 (ipykernel)",
   "language": "python",
   "name": "python3"
  },
  "language_info": {
   "codemirror_mode": {
    "name": "ipython",
    "version": 3
   },
   "file_extension": ".py",
   "mimetype": "text/x-python",
   "name": "python",
   "nbconvert_exporter": "python",
   "pygments_lexer": "ipython3",
   "version": "3.11.5"
  }
 },
 "nbformat": 4,
 "nbformat_minor": 5
}
